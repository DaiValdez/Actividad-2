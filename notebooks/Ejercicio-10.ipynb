{
 "cells": [
  {
   "cell_type": "code",
   "execution_count": null,
   "metadata": {},
   "outputs": [],
   "source": [
    "import sys\n",
    "import os\n",
    "sys.path.append(os.path.abspath(\"../src\"))\n",
    "\n"
   ]
  },
  {
   "cell_type": "markdown",
   "metadata": {},
   "source": [
    "# EJERCICIO 10\n",
    "## Simulación de partidas y ranking en shooter online\n",
    "Simule varias partidas de un juego de disparos y genere un ranking basado en el puntaje\n",
    "total de cada jugador. Se utilizará el siguiente sistema de puntuación:\n",
    "### Accion ---> Puntos\n",
    "- Kill ---> 3\n",
    "- Asistencia ---> 1\n",
    "- Muerte ---> -1\n"
   ]
  },
  {
   "cell_type": "code",
   "execution_count": 24,
   "metadata": {},
   "outputs": [],
   "source": [
    "rounds = [\n",
    "{\n",
    "'Shadow': {'kills': 2, 'assists': 1, 'deaths': True},\n",
    "'Blaze': {'kills': 1, 'assists': 0, 'deaths': False},\n",
    "'Viper': {'kills': 1, 'assists': 2, 'deaths': True},\n",
    "'Frost': {'kills': 0, 'assists': 1, 'deaths': False},\n",
    "'Reaper': {'kills': 1, 'assists': 1, 'deaths': False}\n",
    "},\n",
    "{\n",
    "'Shadow': {'kills': 0, 'assists': 2, 'deaths': False},\n",
    "'Blaze': {'kills': 2, 'assists': 0, 'deaths': True},\n",
    "'Viper': {'kills': 1, 'assists': 1, 'deaths': False},\n",
    "'Frost': {'kills': 2, 'assists': 1, 'deaths': True},\n",
    "'Reaper': {'kills': 0, 'assists': 1, 'deaths': False}\n",
    "},\n",
    "{\n",
    "'Shadow': {'kills': 1, 'assists': 0, 'deaths': False},\n",
    "'Blaze': {'kills': 2, 'assists': 2, 'deaths': True},\n",
    "'Viper': {'kills': 1, 'assists': 1, 'deaths': True},\n",
    "'Frost': {'kills': 0, 'assists': 1, 'deaths': False},\n",
    "'Reaper': {'kills': 1, 'assists': 1, 'deaths': False}\n",
    "},\n",
    "{\n",
    "'Shadow': {'kills': 2, 'assists': 1, 'deaths': False},\n",
    "'Blaze': {'kills': 1, 'assists': 0, 'deaths': True},\n",
    "'Viper': {'kills': 0, 'assists': 2, 'deaths': False},\n",
    "'Frost': {'kills': 1, 'assists': 1, 'deaths': True},\n",
    "'Reaper': {'kills': 1, 'assists': 1, 'deaths': False}\n",
    "},\n",
    "{\n",
    "'Shadow': {'kills': 1, 'assists': 2, 'deaths': True},\n",
    "'Blaze': {'kills': 0, 'assists': 1, 'deaths': False},\n",
    "'Viper': {'kills': 2, 'assists': 0, 'deaths': True},\n",
    "'Frost': {'kills': 1, 'assists': 1, 'deaths': False},\n",
    "'Reaper': {'kills': 1, 'assists': 1, 'deaths': True}\n",
    "}\n",
    "]"
   ]
  },
  {
   "cell_type": "markdown",
   "metadata": {},
   "source": [
    "## Tablas de resultados en cada ronda"
   ]
  },
  {
   "cell_type": "code",
   "execution_count": 28,
   "metadata": {},
   "outputs": [
    {
     "ename": "UnboundLocalError",
     "evalue": "cannot access local variable 'kill_points' where it is not associated with a value",
     "output_type": "error",
     "traceback": [
      "\u001b[31m---------------------------------------------------------------------------\u001b[39m",
      "\u001b[31mUnboundLocalError\u001b[39m                         Traceback (most recent call last)",
      "\u001b[36mCell\u001b[39m\u001b[36m \u001b[39m\u001b[32mIn[28]\u001b[39m\u001b[32m, line 5\u001b[39m\n\u001b[32m      3\u001b[39m \u001b[38;5;28;01mfor\u001b[39;00m \u001b[38;5;28mround\u001b[39m \u001b[38;5;129;01min\u001b[39;00m rounds:\n\u001b[32m      4\u001b[39m     num_round = num_round + \u001b[32m1\u001b[39m\n\u001b[32m----> \u001b[39m\u001b[32m5\u001b[39m     round_results = \u001b[43mranking_round\u001b[49m\u001b[43m(\u001b[49m\u001b[38;5;28;43mround\u001b[39;49m\u001b[43m,\u001b[49m\u001b[43m \u001b[49m\u001b[43mnum_round\u001b[49m\u001b[43m)\u001b[49m\n\u001b[32m      6\u001b[39m     ranking_final(round_results)\n",
      "\u001b[36mFile \u001b[39m\u001b[32mc:\\TP-2\\src\\funciones\\__init__.py:26\u001b[39m, in \u001b[36mranking_round\u001b[39m\u001b[34m(round_data, round_number)\u001b[39m\n\u001b[32m     25\u001b[39m \u001b[38;5;28;01mdef\u001b[39;00m\u001b[38;5;250m \u001b[39m\u001b[34mranking_round\u001b[39m (round_data, round_number):\n\u001b[32m---> \u001b[39m\u001b[32m26\u001b[39m     kill_points = \u001b[43mkill_points\u001b[49m(round_data)\n\u001b[32m     27\u001b[39m     assists_points = assists_points(round_data)\n\u001b[32m     28\u001b[39m     deaths_points = deaths_points(round_data)\n",
      "\u001b[31mUnboundLocalError\u001b[39m: cannot access local variable 'kill_points' where it is not associated with a value"
     ]
    }
   ],
   "source": [
    "from funciones import ranking_round, ranking_final, print_final_ranking \n",
    "num_round = 0\n",
    "for round in rounds:\n",
    "    num_round = num_round + 1\n",
    "    round_results = ranking_round(round, num_round)\n",
    "    ranking_final(round_results)\n",
    "    \n",
    "\n",
    "\n",
    "\n"
   ]
  }
 ],
 "metadata": {
  "kernelspec": {
   "display_name": "venv",
   "language": "python",
   "name": "python3"
  },
  "language_info": {
   "codemirror_mode": {
    "name": "ipython",
    "version": 3
   },
   "file_extension": ".py",
   "mimetype": "text/x-python",
   "name": "python",
   "nbconvert_exporter": "python",
   "pygments_lexer": "ipython3",
   "version": "3.12.9"
  }
 },
 "nbformat": 4,
 "nbformat_minor": 2
}
